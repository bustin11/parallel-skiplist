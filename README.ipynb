{
 "cells": [
  {
   "cell_type": "markdown",
   "metadata": {},
   "source": [
    "# Requirements\n",
    "\n",
    "## Hardware\n",
    "- Tested on debian-like machine (pop-os to be exact), but ubuntu probably works\n",
    "\n",
    "## Software\n",
    "- Tested with g++ --version=10.3.0\n",
    "```\n",
    "sudo apt-get install g++ // or\n",
    "sudo apt-get build-essential\n",
    "```\n",
    "-  Install **openMP**\n",
    "```\n",
    "sudo apt-get install libomp-dev\n",
    "```\n",
    "**openMP** is a library that offers support for seamless parallelization through thread launching. As the programmer, you only need to identify parts of your code feeble for parallelization, while the library itself is an abstractions that helps with loop indexing, thread launching, built-in locks, and is portable on different os, making it a nice option for users who don't care about hardware optimations for every different machine. \n",
    "\n",
    "For the graphing tools we will need python3 and matplotlib\n",
    "```\n",
    "sudo apt-get install python\n",
    "# In this repository\n",
    "python3 -m venv venv\n",
    "source venv/bin/activate\n",
    "pip install matplotlib\n",
    "```\n",
    "\n",
    "\n",
    "# Description\n",
    "\n",
    "Follow this [youtube link from Geometry Lab](https://www.youtube.com/watch?v=NDGpsfwAaqo&t=705s&ab_channel=GeometryLab) for a more detailed explanation of a skiplist. Here is a summary of the properties of skiplist.\n",
    "\n",
    "| Insertion | Deletion | Search |\n",
    "| --------- | -------- | ------ |\n",
    "| log(n)    | log(n)   | log(n) |\n",
    "\n",
    "\\*expected time\n",
    "\n",
    "The skiplist is able to achieve these marks because it uses layers/levels of linked list (visually) stacked on top of each other for *skipping* sections of a normal linked list (which has linear time search), and thus tries to emulate the methodology behind *binary search*.\n",
    "\n",
    "\n",
    "In the next few sections, I analyze 4 different skiplist implementations: [sequential](https://github.com/bustin11/parallel-skiplist/tree/sequential), [coarse-grain](https://github.com/bustin11/parallel-skiplist/tree/coarse-grain), [fine-grain](https://github.com/bustin11/parallel-skiplist/tree/fine-grain), and [lock-free](https://github.com/bustin11/parallel-skiplist/tree/lock-free). If want to run yourself, make sure you follow the Software guidelines and pull all 4 branches."
   ]
  },
  {
   "cell_type": "markdown",
   "metadata": {},
   "source": [
    "# Grab Metrics"
   ]
  },
  {
   "cell_type": "code",
   "execution_count": 22,
   "metadata": {},
   "outputs": [],
   "source": [
    "def run(branch_name):\n",
    "    !git checkout $branch_name\n",
    "    !./run.sh\n",
    "    !make clean\n",
    "\n",
    "branch_names = [\"sequential\", \"coarse-grain\", \"fine-grain\", \"lock-free\"]"
   ]
  },
  {
   "cell_type": "code",
   "execution_count": 24,
   "metadata": {},
   "outputs": [],
   "source": [
    "!rm output.txt\n",
    "for name in branch_names:\n",
    "    !echo $name >> output.txt\n",
    "    run(name)"
   ]
  }
 ],
 "metadata": {
  "interpreter": {
   "hash": "6a5d91fef5f4043330123486a4ff7013a3e4eacb9057a36525b7fadfac9938db"
  },
  "kernelspec": {
   "display_name": "Python 3.9.5 ('venv': venv)",
   "language": "python",
   "name": "python3"
  },
  "language_info": {
   "name": "python",
   "version": "3.9.5"
  },
  "orig_nbformat": 4
 },
 "nbformat": 4,
 "nbformat_minor": 2
}
